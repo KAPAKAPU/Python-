{
 "cells": [
  {
   "cell_type": "code",
   "execution_count": 1,
   "id": "6a8dc861",
   "metadata": {},
   "outputs": [],
   "source": [
    "#palindrome\n",
    "def menu():\n",
    "    print(\"\\n///MENU///\")\n",
    "    print(\"1. Palindrome\")\n",
    "    print(\"2. Factorial\")\n",
    "    print(\"3. Pattern\")\n",
    "    print(\"4. Exit\")\n",
    "    return(int(input(\"\\nEnter your choice: \")))\n",
    "def palindrome():\n",
    "    flag=1\n",
    "    str = input(\"\\nEnter the string: \")\n",
    "    for i in range(0,len(str)//2):\n",
    "        if str[i]!=str[len(str)-i-1]:\n",
    "            flag=0\n",
    "            break\n",
    "        if(flag==1):\n",
    "            print(\"\\nThe string is palindrome\")\n",
    "        else:\n",
    "            print(\"\\nThe string is not palindrome\")\n",
    "def fact():\n",
    "    f=1\n",
    "    n=int(input(\"\\nEnter the number: \"))\n",
    "    for i in range(2,n+1):\n",
    "        f=i*f\n",
    "    print(\"\\nThe factorial = \",f)\n",
    "def pattern():\n",
    "    n=int(input(\"\\nEnter the no. of row: \"))\n",
    "    for i in range(1,n+1):\n",
    "        for j in range(1,i+1):\n",
    "            print(\"*\",end=\"\")\n",
    "        print()\n",
    "    c=0\n",
    "    while(c!=4):\n",
    "        c=menu()\n",
    "    if(c==1):\n",
    "        palindrome()\n",
    "    elif(c==2):\n",
    "        fact()\n",
    "    elif(c==3):\n",
    "        pattern()"
   ]
  }
 ],
 "metadata": {
  "kernelspec": {
   "display_name": "Python 3 (ipykernel)",
   "language": "python",
   "name": "python3"
  },
  "language_info": {
   "codemirror_mode": {
    "name": "ipython",
    "version": 3
   },
   "file_extension": ".py",
   "mimetype": "text/x-python",
   "name": "python",
   "nbconvert_exporter": "python",
   "pygments_lexer": "ipython3",
   "version": "3.9.12"
  }
 },
 "nbformat": 4,
 "nbformat_minor": 5
}
