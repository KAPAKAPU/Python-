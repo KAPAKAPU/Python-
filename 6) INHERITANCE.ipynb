{
 "cells": [
  {
   "cell_type": "code",
   "execution_count": 1,
   "id": "738b1745",
   "metadata": {},
   "outputs": [
    {
     "name": "stdout",
     "output_type": "stream",
     "text": [
      "Enter the student details:-\n",
      "\n",
      "Enter Student ID: 20CE1196\n",
      "\n",
      "Enter Student Name: Kashyap\n",
      "\n",
      "Enter marks in first subject: 15\n",
      "\n",
      "Enter marks in second subject: 16\n",
      "\n",
      "Student ID =  20CE1196\n",
      "Student Name =  Kashyap\n",
      "Marks in subject 1 =  15\n",
      "Marks in subject 2 =  16\n",
      "\n",
      "Do you want to enter sports marks? (y/n): y\n",
      "Enter sports marks: 20\n",
      "\n",
      "Sports marks =  20\n",
      "\n",
      "We have, Total Marks =  51 \n",
      "\n"
     ]
    }
   ],
   "source": [
    "class Person:\n",
    "    def __init__(self, id, name):\n",
    "        self.ID = id\n",
    "        self.name = name\n",
    "\n",
    "    def display(self):\n",
    "        print(\"\\nID = \", self.ID)\n",
    "        print(\"\\nName = \", self.name)\n",
    "\n",
    "class Student(Person):\n",
    "    def __init__(self, x, y, id, name):\n",
    "        super().__init__(id, name)\n",
    "        #allows the child class to access the parent class's init() property.\n",
    "        self.sub1 = x\n",
    "        self.sub2 = y\n",
    "        \n",
    "    def display(self):\n",
    "        print(\"\\nStudent ID = \", self.ID)\n",
    "        print(\"Student Name = \", self.name)\n",
    "        print(\"Marks in subject 1 = \", self.sub1)\n",
    "        print(\"Marks in subject 2 = \", self.sub2)\n",
    "\n",
    "class Sports:\n",
    "    def showsports(self, s=None):\n",
    "        self.sportsmarks = s\n",
    "        if s!=None:\n",
    "            print(\"\\nSports marks = \", self.sportsmarks)\n",
    "\n",
    "class Result(Student, Sports):\n",
    "    def __init__(self, id, name, x, y):\n",
    "        super().__init__(x, y, id, name)\n",
    "        \n",
    "    def total(self):\n",
    "        if self.sportsmarks is not None:\n",
    "            sum1 = self.sub1 + self.sub2 + self.sportsmarks\n",
    "        else:\n",
    "            sum1 = self.sub1 + self.sub2\n",
    "        print(\"\\nWe have, Total Marks = \", sum1, \"\\n\")\n",
    "        \n",
    "print(\"Enter the student details:-\")\n",
    "id = input(\"\\nEnter Student ID: \")\n",
    "name = input(\"\\nEnter Student Name: \")\n",
    "m1 = int(input(\"\\nEnter marks in first subject: \"))\n",
    "m2 = int(input(\"\\nEnter marks in second subject: \"))\n",
    "\n",
    "obj = Result(id, name, m1, m2)\n",
    "obj.display()\n",
    "\n",
    "c = input(\"\\nDo you want to enter sports marks? (y/n): \")\n",
    "if c=='y':\n",
    "    sm = int(input(\"Enter sports marks: \"))\n",
    "    obj.showsports(sm)\n",
    "else:\n",
    "    obj.showsports()\n",
    "obj.total()"
   ]
  },
  {
   "cell_type": "code",
   "execution_count": null,
   "id": "1476e377",
   "metadata": {},
   "outputs": [],
   "source": []
  }
 ],
 "metadata": {
  "kernelspec": {
   "display_name": "Python 3 (ipykernel)",
   "language": "python",
   "name": "python3"
  },
  "language_info": {
   "codemirror_mode": {
    "name": "ipython",
    "version": 3
   },
   "file_extension": ".py",
   "mimetype": "text/x-python",
   "name": "python",
   "nbconvert_exporter": "python",
   "pygments_lexer": "ipython3",
   "version": "3.9.12"
  }
 },
 "nbformat": 4,
 "nbformat_minor": 5
}
