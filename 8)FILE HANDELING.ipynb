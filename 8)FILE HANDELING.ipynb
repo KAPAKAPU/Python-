{
 "cells": [
  {
   "cell_type": "code",
   "execution_count": null,
   "id": "2a01dd4c",
   "metadata": {},
   "outputs": [
    {
     "name": "stdout",
     "output_type": "stream",
     "text": [
      "\n",
      "///MENU///\n",
      "1. To read content of one file and write it to another file\n",
      "2. To append data at the end of existing file\n",
      "3. To count number of lines, words and characters in a file\n",
      "4. To display files in current directory\n",
      "5. Exit\n"
     ]
    }
   ],
   "source": [
    "import os\n",
    "\n",
    "def menu():\n",
    "    print(\"\\n///MENU///\")\n",
    "    print(\"1. To read content of one file and write it to another file\")\n",
    "    print(\"2. To append data at the end of existing file\")\n",
    "    print(\"3. To count number of lines, words and characters in a file\")\n",
    "    print(\"4. To display files in current directory\")\n",
    "    print(\"5. Exit\")\n",
    "    return(int(input(\"\\nEnter your choice: \")))\n",
    "\n",
    "c=0\n",
    "while c!=5:\n",
    "    \n",
    "    c = menu()\n",
    "    if c==1:\n",
    "        \n",
    "        fname1 = input(\"\\nEnter the file name of first file: \")\n",
    "        fname2 = input(\"\\nEnter the file name of second file: \")\n",
    "        f1 = open(fname1+\".txt\", \"r\")\n",
    "        f2 = open(fname2+\".txt\", \"w+\")\n",
    "        s = f1.read()\n",
    "        f2.write(s)\n",
    "        f1.close()\n",
    "        f2.seek(0,0)\n",
    "        s = f2.read()\n",
    "        print(\"\\nThe contents of second file are:-\\n\")\n",
    "        print(s)\n",
    "        f2.close()\n",
    "\n",
    "    elif c==2:\n",
    "        fname = input(\"\\nEnter the file name: \")\n",
    "        f = open(fname+\".txt\", \"a+\")\n",
    "        s = input(\"\\nEnter the string to append:\\n\")\n",
    "        f.write(s)\n",
    "        f.seek(0,0)\n",
    "        s = f.read()\n",
    "        print(\"\\nThe contents of the updated file are:-\\n\")\n",
    "        print(s)        \n",
    "        f.close()\n",
    "\n",
    "    elif c==3:\n",
    "        c=l=w=0\n",
    "        fname = input(\"\\nEnter the file name: \")\n",
    "        f = open(fname+\".txt\", \"r\")\n",
    "        for x in f:\n",
    "            words = x.split()\n",
    "            l+=1\n",
    "            w+=len(words)\n",
    "            c+=len(x)\n",
    "        print(\"\\nNo. of lines = \", l)\n",
    "        print(\"\\nNo. of words = \", w)\n",
    "        print(\"\\nNo. of characters = \", c)\n",
    "        f.close()\n",
    "\n",
    "    elif c==4:\n",
    "        print(\"\\nThe files in current directory are:-\\n\")\n",
    "        for files in os.walk('.'):\n",
    "            for x in range(0, len(files)):\n",
    "                print(files[x])        \n",
    "    elif c!=5:\n",
    "         print(\"\\nIncorrect choice\")"
   ]
  },
  {
   "cell_type": "code",
   "execution_count": null,
   "id": "bceb12b4",
   "metadata": {},
   "outputs": [],
   "source": []
  }
 ],
 "metadata": {
  "kernelspec": {
   "display_name": "Python 3 (ipykernel)",
   "language": "python",
   "name": "python3"
  },
  "language_info": {
   "codemirror_mode": {
    "name": "ipython",
    "version": 3
   },
   "file_extension": ".py",
   "mimetype": "text/x-python",
   "name": "python",
   "nbconvert_exporter": "python",
   "pygments_lexer": "ipython3",
   "version": "3.9.12"
  }
 },
 "nbformat": 4,
 "nbformat_minor": 5
}
