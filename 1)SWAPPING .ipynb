{
 "cells": [
  {
   "cell_type": "code",
   "execution_count": 12,
   "id": "6d86b157",
   "metadata": {},
   "outputs": [
    {
     "name": "stdout",
     "output_type": "stream",
     "text": [
      "SWAPPING PROGRAM\n",
      "ENTER 1st NUMBER  1\n",
      "ENTER 2nd NUMBER  0\n",
      "FIRST NUMBER =   1\n",
      "SECOND NUMBER =   0\n",
      "FIRST NUMBER AFTER SWAPPING =   0\n",
      "SECOND NUMBER AFTER SWAPPING=   1\n",
      "SECOND NUMBER IS POSITIVE\n"
     ]
    }
   ],
   "source": [
    "#SWAPPING PROGRAM IN PYTHON USING 3rd VARIABLE10\n",
    "print(\"SWAPPING PROGRAM\")\n",
    "a=int(input(\"ENTER 1st NUMBER  \"))\n",
    "b=int(input(\"ENTER 2nd NUMBER  \"))\n",
    "\n",
    "print(\"FIRST NUMBER =  \",a)\n",
    "print(\"SECOND NUMBER =  \",b)\n",
    "      \n",
    "s=a\n",
    "a=b\n",
    "b=s\n",
    "\n",
    "print(\"FIRST NUMBER AFTER SWAPPING =  \",a)\n",
    "print(\"SECOND NUMBER AFTER SWAPPING=  \",b) \n",
    "\n",
    "if a>0:\n",
    "    print(\"FIRST NUMBER IS POSITIVE\")\n",
    "elif b>0:\n",
    "    print(\"SECOND NUMBER IS POSITIVE\")\n",
    "elif a<0:\n",
    "    print(\"FIRST NUMBER IS NEGATIVE\")\n",
    "elif b<0:\n",
    "    print(\"SECOND NUMBER IS NEGATIVE\")    \n",
    "else:\n",
    "     print(\"NUMBER IS ZERO\") \n",
    "    \n",
    "    \n",
    "    "
   ]
  },
  {
   "cell_type": "code",
   "execution_count": 13,
   "id": "4da6bc62",
   "metadata": {},
   "outputs": [
    {
     "name": "stdout",
     "output_type": "stream",
     "text": [
      "SWAPPING PROGRAM\n",
      "ENTER 1st NUMBER  1\n",
      "ENTER 2nd NUMBER  2\n",
      "FIRST NUMBER =   1\n",
      "SECOND NUMBER =   2\n",
      "FIRST NUMBER AFTER SWAPPING =   2\n",
      "SECOND NUMBER AFTER SWAPPING=   1\n"
     ]
    }
   ],
   "source": [
    "#SWAPPING PROGRAM IN PYTHON WITHOUT USING 3rd VARIABLE\n",
    "print(\"SWAPPING PROGRAM\")\n",
    "a=int(input(\"ENTER 1st NUMBER  \"))\n",
    "b=int(input(\"ENTER 2nd NUMBER  \"))\n",
    "print(\"FIRST NUMBER =  \",a)\n",
    "print(\"SECOND NUMBER =  \",b)\n",
    "a=a+b\n",
    "b=a-b\n",
    "a=a-b\n",
    "print(\"FIRST NUMBER AFTER SWAPPING =  \",a)\n",
    "print(\"SECOND NUMBER AFTER SWAPPING=  \",b) "
   ]
  },
  {
   "cell_type": "code",
   "execution_count": null,
   "id": "28377fcf",
   "metadata": {},
   "outputs": [],
   "source": []
  }
 ],
 "metadata": {
  "kernelspec": {
   "display_name": "Python 3 (ipykernel)",
   "language": "python",
   "name": "python3"
  },
  "language_info": {
   "codemirror_mode": {
    "name": "ipython",
    "version": 3
   },
   "file_extension": ".py",
   "mimetype": "text/x-python",
   "name": "python",
   "nbconvert_exporter": "python",
   "pygments_lexer": "ipython3",
   "version": "3.9.12"
  }
 },
 "nbformat": 4,
 "nbformat_minor": 5
}
